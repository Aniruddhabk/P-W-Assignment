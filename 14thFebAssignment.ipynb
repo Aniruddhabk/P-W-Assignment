{
 "cells": [
  {
   "cell_type": "markdown",
   "id": "3e2306f8-32ba-4472-bd74-5d113f8de3db",
   "metadata": {},
   "source": [
    "### 1.what is multithreading in python? Why is it used? Name the module used to handle threads in python  \n",
    "#### Ans:\n",
    "* Multithreading in Python refers to the execution of multiple threads simultaneously within a single program. It allows for concurrent execution of code, enabling a program to perform multiple tasks concurrently.\n",
    "\n",
    "* Multithreading is used to improve the performance of a program by making it faster and more responsive to user inputs. It can also be used to perform time-consuming operations in the background while the program continues to execute other code.\n",
    "\n",
    "* The module used to handle threads in Python is called \"threading\". It provides a way to create, control, and manage threads in a Python program."
   ]
  },
  {
   "cell_type": "markdown",
   "id": "b33ad9d6-2db1-4732-b4e7-672a034c549f",
   "metadata": {},
   "source": [
    "### 2.Why threading module used? write the use of the following functions \n",
    "*  activeCount()   \n",
    "* currentThread() \n",
    "* enumerate() \n",
    "#### Ans : The threading module in Python is used to create, manage, and control threads in a program.\n",
    "\n",
    "* The activeCount() function is used to get the number of active threads in a program. It returns the number of Thread objects that are currently alive. This can be useful for debugging and monitoring the status of a program that uses multiple threads.\n",
    "\n",
    "* The currentThread() function is used to get a reference to the current thread object that is executing the function call. This can be useful for getting information about the current thread, such as its name, ID, and status.\n",
    "\n",
    "* The enumerate() function is used to get a list of all the Thread objects that are currently alive. It returns a list of Thread objects, each representing one active thread in the program. This can be useful for iterating over all the threads in a program and performing some action on each one."
   ]
  },
  {
   "cell_type": "markdown",
   "id": "e3d4c698-baf0-460c-9fda-4047a73b2787",
   "metadata": {},
   "source": [
    "### 3. Explain the following functions  \n",
    "* run()   \n",
    "* start()   \n",
    "* join()   \n",
    "* isAlive()\n",
    "\n",
    "#### Ans : \n",
    "\n",
    "1. run():The run() function is called when a thread starts executing. It contains the code that will be executed in the thread.\n",
    "2. start() :The start() function is used to start a thread. It creates a new thread and calls the run() function of the thread. The start() function returns immediately, and the new thread runs in the background.\n",
    "3. join()  :The join() function is used to wait for a thread to finish. When a thread is started using the start() function, it runs in the background, and the main thread of the program continues to execute. The join() function blocks the main thread until the thread being joined has finished executing.\n",
    "4. isAlive(): The isAlive() function is used to check whether a thread is still running. It returns True if the thread is still running and False otherwise. This can be useful for checking the status of a thread and taking appropriate action based on the result.\n"
   ]
  },
  {
   "cell_type": "markdown",
   "id": "6f57e561-8a08-4926-ac40-5fc249cf4cb1",
   "metadata": {},
   "source": [
    "### 4. Write a python program to create two threads. Thread one must print the list of squares and thread  two must print the list of cubes  \n"
   ]
  },
  {
   "cell_type": "code",
   "execution_count": 8,
   "id": "561cbcc7-bbff-4fa6-929f-7d8bb31050d2",
   "metadata": {},
   "outputs": [],
   "source": [
    "def Square_Thread_List():\n",
    "    list_of_squares = [x**2 for x in range(1,11)]\n",
    "    print(list_of_squares)\n",
    "\n",
    "def Cube_Thread_List():\n",
    "    list_of_cubes = [x**3 for x in range(1,11)]\n",
    "    print(list_of_cubes)\n",
    "\n",
    "#importing threading and creating thread1 and thread2\n",
    "import threading\n",
    "thread1 = threading.Thread(target=Square_Thread_List)\n",
    "thread2 = threading.Thread(target=Cube_Thread_List)"
   ]
  },
  {
   "cell_type": "code",
   "execution_count": 10,
   "id": "b4bae570-e43e-46fb-9f35-a6194e2ac79a",
   "metadata": {},
   "outputs": [
    {
     "name": "stdout",
     "output_type": "stream",
     "text": [
      "[1, 4, 9, 16, 25, 36, 49, 64, 81, 100]\n",
      "[1, 8, 27, 64, 125, 216, 343, 512, 729, 1000]\n"
     ]
    }
   ],
   "source": [
    "# starting the threads using start()\n",
    "thread1.start()\n",
    "thread2.start()"
   ]
  },
  {
   "cell_type": "markdown",
   "id": "399bd0f1-b64a-4b0e-99fa-8a52184761b4",
   "metadata": {},
   "source": []
  },
  {
   "cell_type": "markdown",
   "id": "c8b005e5-7273-4d46-8c71-54b9f2299ef3",
   "metadata": {},
   "source": [
    "### 5. State advantages and disadvantages of multithreading\n",
    "#### Ans : \n",
    "##### Advantages:\n",
    "\n",
    "* Improved Performance: Multithreading can improve the performance of a program by allowing it to execute multiple tasks concurrently, which can lead to faster execution times and a more responsive program.\n",
    "\n",
    "* Resource sharing: Multithreading allows multiple threads to share system resources such as memory and CPU time, which can lead to more efficient use of system resources and better performance.\n",
    "\n",
    "* Simplified program structure: Multithreading can simplify the structure of a program by breaking it down into smaller, more manageable parts that can be executed concurrently.\n",
    "\n",
    "* Interactivity: Multithreading can make a program more interactive by allowing it to respond to user inputs and other events while performing other tasks in the background.\n",
    "\n",
    "##### Disadvantages:\n",
    "\n",
    "* Increased complexity: Multithreaded programs can be more complex to design, write, and debug than single-threaded programs.\n",
    "\n",
    "* Synchronization: Multithreading requires careful management of synchronization between threads to avoid issues such as race conditions, deadlocks, and data corruption.\n",
    "\n",
    "* Resource contention: Multithreading can lead to resource contention and conflicts between threads when multiple threads try to access the same resource simultaneously.\n",
    "\n",
    "* Overhead: Multithreading can create overhead in terms of memory usage and context switching, which can impact performance if not managed carefully."
   ]
  },
  {
   "cell_type": "markdown",
   "id": "8e511788-4879-486e-8d30-f46b29721cb1",
   "metadata": {},
   "source": [
    "### 6. Explain deadlocks and race conditions. \n",
    "#### Ans : \n",
    "Deadlocks and race conditions are two common problems that can occur in multithreaded programs.\n",
    "\n",
    "A deadlock occurs when two or more threads are blocked waiting for each other to release resources that they need to continue executing. In other words, a deadlock happens when two or more threads are stuck in a situation where none of them can proceed, and they are waiting for the other to release a resource that they need. Deadlocks can be tricky to diagnose and resolve, and they can result in programs becoming unresponsive or crashing.\n",
    "\n",
    "A race condition occurs when two or more threads access a shared resource or variable simultaneously, and the outcome depends on the order in which the threads execute. In other words, a race condition occurs when the behavior of a program depends on the relative timing of events that are not under the program's control. Race conditions can result in unpredictable behavior and data corruption, and they can be challenging to diagnose and resolve.\n",
    "\n",
    "Both deadlocks and race conditions are common problems that can occur in multithreaded programs, and they require careful management and attention to detail to avoid. Proper synchronization and locking mechanisms can help prevent these problems by ensuring that threads are accessing shared resources and variables in a controlled and coordinated way."
   ]
  }
 ],
 "metadata": {
  "kernelspec": {
   "display_name": "Python 3 (ipykernel)",
   "language": "python",
   "name": "python3"
  },
  "language_info": {
   "codemirror_mode": {
    "name": "ipython",
    "version": 3
   },
   "file_extension": ".py",
   "mimetype": "text/x-python",
   "name": "python",
   "nbconvert_exporter": "python",
   "pygments_lexer": "ipython3",
   "version": "3.10.8"
  }
 },
 "nbformat": 4,
 "nbformat_minor": 5
}
